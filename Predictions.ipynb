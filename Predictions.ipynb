{
 "cells": [
  {
   "cell_type": "markdown",
   "id": "c3dc6d1f",
   "metadata": {},
   "source": [
    "## Importing Libraries"
   ]
  },
  {
   "cell_type": "code",
   "execution_count": 400,
   "id": "abdab544",
   "metadata": {},
   "outputs": [],
   "source": [
    "import pandas as pd\n",
    "import numpy as np\n",
    "from sklearn.metrics import mean_absolute_error\n",
    "from sklearn.ensemble import RandomForestRegressor\n",
    "from sklearn.model_selection import train_test_split\n",
    "from sklearn.metrics import accuracy_score"
   ]
  },
  {
   "cell_type": "markdown",
   "id": "3d0fffc3",
   "metadata": {},
   "source": [
    "Reading the Data sets."
   ]
  },
  {
   "cell_type": "code",
   "execution_count": 401,
   "id": "0e39bb7e",
   "metadata": {},
   "outputs": [],
   "source": [
    "data_train = pd.read_csv(\"temp.csv\")\n",
    "data_test = pd.read_csv(\"temp_test.csv\")"
   ]
  },
  {
   "cell_type": "code",
   "execution_count": 402,
   "id": "4a648a88",
   "metadata": {},
   "outputs": [
    {
     "data": {
      "text/html": [
       "<div>\n",
       "<style scoped>\n",
       "    .dataframe tbody tr th:only-of-type {\n",
       "        vertical-align: middle;\n",
       "    }\n",
       "\n",
       "    .dataframe tbody tr th {\n",
       "        vertical-align: top;\n",
       "    }\n",
       "\n",
       "    .dataframe thead th {\n",
       "        text-align: right;\n",
       "    }\n",
       "</style>\n",
       "<table border=\"1\" class=\"dataframe\">\n",
       "  <thead>\n",
       "    <tr style=\"text-align: right;\">\n",
       "      <th></th>\n",
       "      <th>Table 1</th>\n",
       "      <th>Unnamed: 1</th>\n",
       "      <th>Unnamed: 2</th>\n",
       "      <th>Unnamed: 3</th>\n",
       "      <th>Unnamed: 4</th>\n",
       "      <th>Unnamed: 5</th>\n",
       "      <th>Unnamed: 6</th>\n",
       "    </tr>\n",
       "  </thead>\n",
       "  <tbody>\n",
       "    <tr>\n",
       "      <th>0</th>\n",
       "      <td>Index</td>\n",
       "      <td>Fahrenheit</td>\n",
       "      <td>Celsius</td>\n",
       "      <td>Kelvin</td>\n",
       "      <td>NaN</td>\n",
       "      <td>NaN</td>\n",
       "      <td>NaN</td>\n",
       "    </tr>\n",
       "    <tr>\n",
       "      <th>1</th>\n",
       "      <td>1</td>\n",
       "      <td>10</td>\n",
       "      <td>-12.22222222</td>\n",
       "      <td>260.9277778</td>\n",
       "      <td>NaN</td>\n",
       "      <td>NaN</td>\n",
       "      <td>NaN</td>\n",
       "    </tr>\n",
       "    <tr>\n",
       "      <th>2</th>\n",
       "      <td>2</td>\n",
       "      <td>22</td>\n",
       "      <td>-5.555555556</td>\n",
       "      <td>267.5944444</td>\n",
       "      <td>NaN</td>\n",
       "      <td>NaN</td>\n",
       "      <td>NaN</td>\n",
       "    </tr>\n",
       "    <tr>\n",
       "      <th>3</th>\n",
       "      <td>3</td>\n",
       "      <td>32</td>\n",
       "      <td>0</td>\n",
       "      <td>273.15</td>\n",
       "      <td>NaN</td>\n",
       "      <td>NaN</td>\n",
       "      <td>NaN</td>\n",
       "    </tr>\n",
       "    <tr>\n",
       "      <th>4</th>\n",
       "      <td>4</td>\n",
       "      <td>1</td>\n",
       "      <td>-17.22222222</td>\n",
       "      <td>255.9277778</td>\n",
       "      <td>NaN</td>\n",
       "      <td>NaN</td>\n",
       "      <td>NaN</td>\n",
       "    </tr>\n",
       "  </tbody>\n",
       "</table>\n",
       "</div>"
      ],
      "text/plain": [
       "  Table 1  Unnamed: 1    Unnamed: 2   Unnamed: 3  Unnamed: 4  Unnamed: 5  \\\n",
       "0   Index  Fahrenheit       Celsius       Kelvin         NaN         NaN   \n",
       "1       1          10  -12.22222222  260.9277778         NaN         NaN   \n",
       "2       2          22  -5.555555556  267.5944444         NaN         NaN   \n",
       "3       3          32             0       273.15         NaN         NaN   \n",
       "4       4           1  -17.22222222  255.9277778         NaN         NaN   \n",
       "\n",
       "   Unnamed: 6  \n",
       "0         NaN  \n",
       "1         NaN  \n",
       "2         NaN  \n",
       "3         NaN  \n",
       "4         NaN  "
      ]
     },
     "execution_count": 402,
     "metadata": {},
     "output_type": "execute_result"
    }
   ],
   "source": [
    "data_train.head()"
   ]
  },
  {
   "cell_type": "code",
   "execution_count": 403,
   "id": "46258225",
   "metadata": {},
   "outputs": [
    {
     "data": {
      "text/html": [
       "<div>\n",
       "<style scoped>\n",
       "    .dataframe tbody tr th:only-of-type {\n",
       "        vertical-align: middle;\n",
       "    }\n",
       "\n",
       "    .dataframe tbody tr th {\n",
       "        vertical-align: top;\n",
       "    }\n",
       "\n",
       "    .dataframe thead th {\n",
       "        text-align: right;\n",
       "    }\n",
       "</style>\n",
       "<table border=\"1\" class=\"dataframe\">\n",
       "  <thead>\n",
       "    <tr style=\"text-align: right;\">\n",
       "      <th></th>\n",
       "      <th>Index</th>\n",
       "      <th>Fahrenheit</th>\n",
       "      <th>Kelvin</th>\n",
       "      <th>Celsius</th>\n",
       "    </tr>\n",
       "  </thead>\n",
       "  <tbody>\n",
       "    <tr>\n",
       "      <th>1</th>\n",
       "      <td>1</td>\n",
       "      <td>2</td>\n",
       "      <td>256.4833333</td>\n",
       "      <td>-16.66666667</td>\n",
       "    </tr>\n",
       "    <tr>\n",
       "      <th>2</th>\n",
       "      <td>2</td>\n",
       "      <td>60</td>\n",
       "      <td>288.7055556</td>\n",
       "      <td>15.55555556</td>\n",
       "    </tr>\n",
       "    <tr>\n",
       "      <th>3</th>\n",
       "      <td>3</td>\n",
       "      <td>300</td>\n",
       "      <td>422.0388889</td>\n",
       "      <td>148.8888889</td>\n",
       "    </tr>\n",
       "    <tr>\n",
       "      <th>4</th>\n",
       "      <td>4</td>\n",
       "      <td>312</td>\n",
       "      <td>428.7055556</td>\n",
       "      <td>155.5555556</td>\n",
       "    </tr>\n",
       "    <tr>\n",
       "      <th>5</th>\n",
       "      <td>5</td>\n",
       "      <td>273</td>\n",
       "      <td>407.0388889</td>\n",
       "      <td>133.8888889</td>\n",
       "    </tr>\n",
       "  </tbody>\n",
       "</table>\n",
       "</div>"
      ],
      "text/plain": [
       "0 Index Fahrenheit       Kelvin       Celsius\n",
       "1     1          2  256.4833333  -16.66666667\n",
       "2     2         60  288.7055556   15.55555556\n",
       "3     3        300  422.0388889   148.8888889\n",
       "4     4        312  428.7055556   155.5555556\n",
       "5     5        273  407.0388889   133.8888889"
      ]
     },
     "execution_count": 403,
     "metadata": {},
     "output_type": "execute_result"
    }
   ],
   "source": [
    "data_train.columns = data_train.iloc[0]\n",
    "data_train = data_train[[\"Index\", \"Fahrenheit\", \"Celsius\", \"Kelvin\"]]\n",
    "data_train = data_train.dropna()\n",
    "data_train = data_train.drop(0)\n",
    "data_test.columns = data_test.iloc[0]\n",
    "data_test = data_test[[\"Index\", \"Fahrenheit\", \"Kelvin\", \"Celsius\"]]\n",
    "data_test = data_test.dropna()\n",
    "data_test = data_test.drop(0)\n",
    "data_test.head()"
   ]
  },
  {
   "cell_type": "markdown",
   "id": "0ce0f735",
   "metadata": {},
   "source": [
    "Checking for missing values"
   ]
  },
  {
   "cell_type": "code",
   "execution_count": 404,
   "id": "082e05ac",
   "metadata": {},
   "outputs": [
    {
     "data": {
      "text/plain": [
       "[]"
      ]
     },
     "execution_count": 404,
     "metadata": {},
     "output_type": "execute_result"
    }
   ],
   "source": [
    "mis_val = [mis for mis in data_test.columns if data_test[mis].isnull().any()]\n",
    "mis_val"
   ]
  },
  {
   "cell_type": "code",
   "execution_count": 405,
   "id": "ef2b4d54",
   "metadata": {},
   "outputs": [
    {
     "data": {
      "text/plain": [
       "0\n",
       "Index         object\n",
       "Fahrenheit    object\n",
       "Kelvin        object\n",
       "Celsius       object\n",
       "dtype: object"
      ]
     },
     "execution_count": 405,
     "metadata": {},
     "output_type": "execute_result"
    }
   ],
   "source": [
    "data_test.dtypes"
   ]
  },
  {
   "cell_type": "code",
   "execution_count": 406,
   "id": "bfcc5c74",
   "metadata": {},
   "outputs": [],
   "source": [
    "data_train[[\"Fahrenheit\", \"Kelvin\", \"Celsius\"]] = data_train[[\"Fahrenheit\", \"Kelvin\", \"Celsius\"]].astype(float)\n",
    "data_test[[\"Fahrenheit\", \"Kelvin\", \"Celsius\"]] = data_test[[\"Fahrenheit\", \"Kelvin\", \"Celsius\"]].astype(float)\n",
    "data_train[\"Index\"] = data_train[\"Index\"].astype(int)\n",
    "data_test[\"Index\"] = data_test[\"Index\"].astype(int)"
   ]
  },
  {
   "cell_type": "code",
   "execution_count": 407,
   "id": "964d2ae5",
   "metadata": {},
   "outputs": [
    {
     "data": {
      "text/html": [
       "<div>\n",
       "<style scoped>\n",
       "    .dataframe tbody tr th:only-of-type {\n",
       "        vertical-align: middle;\n",
       "    }\n",
       "\n",
       "    .dataframe tbody tr th {\n",
       "        vertical-align: top;\n",
       "    }\n",
       "\n",
       "    .dataframe thead th {\n",
       "        text-align: right;\n",
       "    }\n",
       "</style>\n",
       "<table border=\"1\" class=\"dataframe\">\n",
       "  <thead>\n",
       "    <tr style=\"text-align: right;\">\n",
       "      <th></th>\n",
       "      <th>Index</th>\n",
       "      <th>Fahrenheit</th>\n",
       "      <th>Celsius</th>\n",
       "      <th>Kelvin</th>\n",
       "    </tr>\n",
       "  </thead>\n",
       "  <tbody>\n",
       "    <tr>\n",
       "      <th>1</th>\n",
       "      <td>1</td>\n",
       "      <td>10.0</td>\n",
       "      <td>-12.222</td>\n",
       "      <td>260.928</td>\n",
       "    </tr>\n",
       "    <tr>\n",
       "      <th>2</th>\n",
       "      <td>2</td>\n",
       "      <td>22.0</td>\n",
       "      <td>-5.556</td>\n",
       "      <td>267.594</td>\n",
       "    </tr>\n",
       "    <tr>\n",
       "      <th>3</th>\n",
       "      <td>3</td>\n",
       "      <td>32.0</td>\n",
       "      <td>0.000</td>\n",
       "      <td>273.150</td>\n",
       "    </tr>\n",
       "    <tr>\n",
       "      <th>4</th>\n",
       "      <td>4</td>\n",
       "      <td>1.0</td>\n",
       "      <td>-17.222</td>\n",
       "      <td>255.928</td>\n",
       "    </tr>\n",
       "    <tr>\n",
       "      <th>5</th>\n",
       "      <td>5</td>\n",
       "      <td>43.0</td>\n",
       "      <td>6.111</td>\n",
       "      <td>279.261</td>\n",
       "    </tr>\n",
       "  </tbody>\n",
       "</table>\n",
       "</div>"
      ],
      "text/plain": [
       "0  Index  Fahrenheit  Celsius   Kelvin\n",
       "1      1        10.0  -12.222  260.928\n",
       "2      2        22.0   -5.556  267.594\n",
       "3      3        32.0    0.000  273.150\n",
       "4      4         1.0  -17.222  255.928\n",
       "5      5        43.0    6.111  279.261"
      ]
     },
     "execution_count": 407,
     "metadata": {},
     "output_type": "execute_result"
    }
   ],
   "source": [
    "data_train[[\"Celsius\", \"Kelvin\"]] = data_train[[\"Celsius\", \"Kelvin\"]].round(decimals=3)\n",
    "data_train.head()"
   ]
  },
  {
   "cell_type": "code",
   "execution_count": 408,
   "id": "43619454",
   "metadata": {},
   "outputs": [
    {
     "data": {
      "text/plain": [
       "0\n",
       "Index           int64\n",
       "Fahrenheit    float64\n",
       "Kelvin        float64\n",
       "Celsius       float64\n",
       "dtype: object"
      ]
     },
     "execution_count": 408,
     "metadata": {},
     "output_type": "execute_result"
    }
   ],
   "source": [
    "data_test.dtypes"
   ]
  },
  {
   "cell_type": "code",
   "execution_count": 431,
   "id": "282c1c94",
   "metadata": {},
   "outputs": [],
   "source": [
    "X = data_train[[\"Fahrenheit\", \"Kelvin\"]]\n",
    "y = data_train[\"Celsius\"]"
   ]
  },
  {
   "cell_type": "markdown",
   "id": "9ecab4fd",
   "metadata": {},
   "source": [
    "We'll be splitting our training data now"
   ]
  },
  {
   "cell_type": "code",
   "execution_count": 474,
   "id": "6aee129a",
   "metadata": {},
   "outputs": [],
   "source": [
    "X_train, X_valid, y_train, y_valid = train_test_split(X, y, test_size=0.2, train_size=0.8)"
   ]
  },
  {
   "cell_type": "code",
   "execution_count": 475,
   "id": "0543ef71",
   "metadata": {},
   "outputs": [],
   "source": [
    "test_stats = data_test[\"Celsius\"]"
   ]
  },
  {
   "cell_type": "markdown",
   "id": "39959145",
   "metadata": {},
   "source": [
    "Good!\n",
    "Now, let's train out model\n",
    "\n",
    "Previously we've known that the RandomForestRegressor perfoms well on it so we'll be using RandomForestRegressor"
   ]
  },
  {
   "cell_type": "code",
   "execution_count": 476,
   "id": "bd60a1de",
   "metadata": {},
   "outputs": [],
   "source": [
    "model = RandomForestRegressor(n_estimators=1000, max_depth=20)\n",
    "model.fit(X, y)\n",
    "preds = model.predict(data_test[[\"Fahrenheit\", \"Kelvin\"]])"
   ]
  },
  {
   "cell_type": "code",
   "execution_count": 477,
   "id": "0f9bfe67",
   "metadata": {
    "scrolled": true
   },
   "outputs": [
    {
     "name": "stdout",
     "output_type": "stream",
     "text": [
      "Mean error = 1.0742851677999274\n"
     ]
    }
   ],
   "source": [
    "mae = mean_absolute_error(test_stats, preds)\n",
    "print(\"Mean error =\", mae)"
   ]
  },
  {
   "cell_type": "markdown",
   "id": "f5e5e356",
   "metadata": {},
   "source": [
    "Here we've achieved 99% Accuracy.\n",
    "let's make a prediction file now"
   ]
  },
  {
   "cell_type": "code",
   "execution_count": 478,
   "id": "11b48fbd",
   "metadata": {},
   "outputs": [
    {
     "name": "stdout",
     "output_type": "stream",
     "text": [
      "File Saved!\n"
     ]
    }
   ],
   "source": [
    "output = pd.DataFrame({'Index':data_test.Index, 'Celsius':preds})\n",
    "output.to_csv('Predictions_Celsius.csv', index=False)\n",
    "print(\"File Saved!\")"
   ]
  }
 ],
 "metadata": {
  "kernelspec": {
   "display_name": "Python 3 (ipykernel)",
   "language": "python",
   "name": "python3"
  },
  "language_info": {
   "codemirror_mode": {
    "name": "ipython",
    "version": 3
   },
   "file_extension": ".py",
   "mimetype": "text/x-python",
   "name": "python",
   "nbconvert_exporter": "python",
   "pygments_lexer": "ipython3",
   "version": "3.7.3"
  }
 },
 "nbformat": 4,
 "nbformat_minor": 5
}
