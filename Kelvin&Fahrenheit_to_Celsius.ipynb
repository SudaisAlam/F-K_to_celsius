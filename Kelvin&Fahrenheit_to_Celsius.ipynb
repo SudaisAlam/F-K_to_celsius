{
 "cells": [
  {
   "cell_type": "markdown",
   "id": "ec1be2e4",
   "metadata": {},
   "source": [
    "## Importing Libraries"
   ]
  },
  {
   "cell_type": "code",
   "execution_count": 125,
   "id": "eabdef1b",
   "metadata": {},
   "outputs": [],
   "source": [
    "import pandas as pd\n",
    "import numpy as np\n",
    "from sklearn.metrics import mean_absolute_error\n",
    "from sklearn.model_selection import train_test_split\n",
    "from sklearn.ensemble import RandomForestRegressor\n",
    "from sklearn.tree import DecisionTreeRegressor\n",
    "from sklearn.metrics import accuracy_score"
   ]
  },
  {
   "cell_type": "markdown",
   "id": "bf909945",
   "metadata": {},
   "source": [
    "Reading the csv file"
   ]
  },
  {
   "cell_type": "code",
   "execution_count": 126,
   "id": "a377bf8c",
   "metadata": {},
   "outputs": [
    {
     "data": {
      "text/html": [
       "<div>\n",
       "<style scoped>\n",
       "    .dataframe tbody tr th:only-of-type {\n",
       "        vertical-align: middle;\n",
       "    }\n",
       "\n",
       "    .dataframe tbody tr th {\n",
       "        vertical-align: top;\n",
       "    }\n",
       "\n",
       "    .dataframe thead th {\n",
       "        text-align: right;\n",
       "    }\n",
       "</style>\n",
       "<table border=\"1\" class=\"dataframe\">\n",
       "  <thead>\n",
       "    <tr style=\"text-align: right;\">\n",
       "      <th></th>\n",
       "      <th>Table 1</th>\n",
       "      <th>Unnamed: 1</th>\n",
       "      <th>Unnamed: 2</th>\n",
       "      <th>Unnamed: 3</th>\n",
       "      <th>Unnamed: 4</th>\n",
       "      <th>Unnamed: 5</th>\n",
       "      <th>Unnamed: 6</th>\n",
       "    </tr>\n",
       "  </thead>\n",
       "  <tbody>\n",
       "    <tr>\n",
       "      <th>0</th>\n",
       "      <td>Index</td>\n",
       "      <td>Fahrenheit</td>\n",
       "      <td>Celsius</td>\n",
       "      <td>Kelvin</td>\n",
       "      <td>NaN</td>\n",
       "      <td>NaN</td>\n",
       "      <td>NaN</td>\n",
       "    </tr>\n",
       "    <tr>\n",
       "      <th>1</th>\n",
       "      <td>1</td>\n",
       "      <td>300</td>\n",
       "      <td>148.8888889</td>\n",
       "      <td>422.0388889</td>\n",
       "      <td>NaN</td>\n",
       "      <td>NaN</td>\n",
       "      <td>NaN</td>\n",
       "    </tr>\n",
       "    <tr>\n",
       "      <th>2</th>\n",
       "      <td>2</td>\n",
       "      <td>310</td>\n",
       "      <td>154.4444444</td>\n",
       "      <td>427.5944444</td>\n",
       "      <td>NaN</td>\n",
       "      <td>NaN</td>\n",
       "      <td>NaN</td>\n",
       "    </tr>\n",
       "    <tr>\n",
       "      <th>3</th>\n",
       "      <td>3</td>\n",
       "      <td>230</td>\n",
       "      <td>110</td>\n",
       "      <td>383.15</td>\n",
       "      <td>NaN</td>\n",
       "      <td>NaN</td>\n",
       "      <td>NaN</td>\n",
       "    </tr>\n",
       "    <tr>\n",
       "      <th>4</th>\n",
       "      <td>4</td>\n",
       "      <td>273</td>\n",
       "      <td>133.8888889</td>\n",
       "      <td>407.0388889</td>\n",
       "      <td>NaN</td>\n",
       "      <td>NaN</td>\n",
       "      <td>NaN</td>\n",
       "    </tr>\n",
       "  </tbody>\n",
       "</table>\n",
       "</div>"
      ],
      "text/plain": [
       "  Table 1  Unnamed: 1   Unnamed: 2   Unnamed: 3  Unnamed: 4  Unnamed: 5  \\\n",
       "0   Index  Fahrenheit      Celsius       Kelvin         NaN         NaN   \n",
       "1       1         300  148.8888889  422.0388889         NaN         NaN   \n",
       "2       2         310  154.4444444  427.5944444         NaN         NaN   \n",
       "3       3         230          110       383.15         NaN         NaN   \n",
       "4       4         273  133.8888889  407.0388889         NaN         NaN   \n",
       "\n",
       "   Unnamed: 6  \n",
       "0         NaN  \n",
       "1         NaN  \n",
       "2         NaN  \n",
       "3         NaN  \n",
       "4         NaN  "
      ]
     },
     "execution_count": 126,
     "metadata": {},
     "output_type": "execute_result"
    }
   ],
   "source": [
    "data = pd.read_csv(\"temp.csv\")\n",
    "data.head()"
   ]
  },
  {
   "cell_type": "code",
   "execution_count": 127,
   "id": "5f54bf78",
   "metadata": {},
   "outputs": [
    {
     "data": {
      "text/html": [
       "<div>\n",
       "<style scoped>\n",
       "    .dataframe tbody tr th:only-of-type {\n",
       "        vertical-align: middle;\n",
       "    }\n",
       "\n",
       "    .dataframe tbody tr th {\n",
       "        vertical-align: top;\n",
       "    }\n",
       "\n",
       "    .dataframe thead th {\n",
       "        text-align: right;\n",
       "    }\n",
       "</style>\n",
       "<table border=\"1\" class=\"dataframe\">\n",
       "  <thead>\n",
       "    <tr style=\"text-align: right;\">\n",
       "      <th></th>\n",
       "      <th>Index</th>\n",
       "      <th>Fahrenheit</th>\n",
       "      <th>Celsius</th>\n",
       "      <th>Kelvin</th>\n",
       "    </tr>\n",
       "  </thead>\n",
       "  <tbody>\n",
       "    <tr>\n",
       "      <th>1</th>\n",
       "      <td>1</td>\n",
       "      <td>300</td>\n",
       "      <td>148.8888889</td>\n",
       "      <td>422.0388889</td>\n",
       "    </tr>\n",
       "    <tr>\n",
       "      <th>2</th>\n",
       "      <td>2</td>\n",
       "      <td>310</td>\n",
       "      <td>154.4444444</td>\n",
       "      <td>427.5944444</td>\n",
       "    </tr>\n",
       "    <tr>\n",
       "      <th>3</th>\n",
       "      <td>3</td>\n",
       "      <td>230</td>\n",
       "      <td>110</td>\n",
       "      <td>383.15</td>\n",
       "    </tr>\n",
       "    <tr>\n",
       "      <th>4</th>\n",
       "      <td>4</td>\n",
       "      <td>273</td>\n",
       "      <td>133.8888889</td>\n",
       "      <td>407.0388889</td>\n",
       "    </tr>\n",
       "    <tr>\n",
       "      <th>5</th>\n",
       "      <td>5</td>\n",
       "      <td>280</td>\n",
       "      <td>137.7777778</td>\n",
       "      <td>410.9277778</td>\n",
       "    </tr>\n",
       "  </tbody>\n",
       "</table>\n",
       "</div>"
      ],
      "text/plain": [
       "0 Index Fahrenheit      Celsius       Kelvin\n",
       "1     1        300  148.8888889  422.0388889\n",
       "2     2        310  154.4444444  427.5944444\n",
       "3     3        230          110       383.15\n",
       "4     4        273  133.8888889  407.0388889\n",
       "5     5        280  137.7777778  410.9277778"
      ]
     },
     "execution_count": 127,
     "metadata": {},
     "output_type": "execute_result"
    }
   ],
   "source": [
    "data.columns = data.iloc[0]\n",
    "data = data.drop(0)\n",
    "data = data[[\"Index\", \"Fahrenheit\", \"Celsius\", \"Kelvin\"]]\n",
    "data.head()"
   ]
  },
  {
   "cell_type": "markdown",
   "id": "2ec5ba42",
   "metadata": {},
   "source": [
    "Dropping the missing value rows"
   ]
  },
  {
   "cell_type": "code",
   "execution_count": 128,
   "id": "81f24fdd",
   "metadata": {},
   "outputs": [],
   "source": [
    "data = data.dropna()"
   ]
  },
  {
   "cell_type": "code",
   "execution_count": 129,
   "id": "eef56e34",
   "metadata": {},
   "outputs": [
    {
     "data": {
      "text/plain": [
       "0\n",
       "Index         object\n",
       "Fahrenheit    object\n",
       "Celsius       object\n",
       "Kelvin        object\n",
       "dtype: object"
      ]
     },
     "execution_count": 129,
     "metadata": {},
     "output_type": "execute_result"
    }
   ],
   "source": [
    "data.dtypes"
   ]
  },
  {
   "cell_type": "markdown",
   "id": "5b693161",
   "metadata": {},
   "source": [
    "Coverting the Data types of the columns."
   ]
  },
  {
   "cell_type": "code",
   "execution_count": 130,
   "id": "8f7dcbed",
   "metadata": {},
   "outputs": [],
   "source": [
    "data[\"Fahrenheit\"] = data[\"Fahrenheit\"].astype(int)\n",
    "data[\"Celsius\"] = data[\"Celsius\"].astype(float)\n",
    "data[\"Kelvin\"] = data[\"Kelvin\"].astype(float)"
   ]
  },
  {
   "cell_type": "code",
   "execution_count": 131,
   "id": "3967ed15",
   "metadata": {},
   "outputs": [
    {
     "data": {
      "text/plain": [
       "0\n",
       "Index          object\n",
       "Fahrenheit      int64\n",
       "Celsius       float64\n",
       "Kelvin        float64\n",
       "dtype: object"
      ]
     },
     "execution_count": 131,
     "metadata": {},
     "output_type": "execute_result"
    }
   ],
   "source": [
    "data.dtypes"
   ]
  },
  {
   "cell_type": "markdown",
   "id": "0ba5ce06",
   "metadata": {},
   "source": [
    "We're good to go here!"
   ]
  },
  {
   "cell_type": "markdown",
   "id": "a9ce009c",
   "metadata": {},
   "source": [
    "Now, set the target column to variable y and the rest to X"
   ]
  },
  {
   "cell_type": "code",
   "execution_count": 132,
   "id": "cc73866f",
   "metadata": {},
   "outputs": [],
   "source": [
    "y = data[\"Celsius\"]\n",
    "X = data[[\"Fahrenheit\", \"Kelvin\"]]"
   ]
  },
  {
   "cell_type": "markdown",
   "id": "fc8b36d7",
   "metadata": {},
   "source": [
    "Let's split the data for training and validating"
   ]
  },
  {
   "cell_type": "code",
   "execution_count": 140,
   "id": "220c1990",
   "metadata": {},
   "outputs": [],
   "source": [
    "X_train, X_valid, y_train, y_valid = train_test_split(X, y, test_size=0.2, train_size=0.8)"
   ]
  },
  {
   "cell_type": "markdown",
   "id": "c9d4c643",
   "metadata": {},
   "source": [
    "now let's make a model with RandomForestRegressor\n",
    "Train the model and make predictions"
   ]
  },
  {
   "cell_type": "code",
   "execution_count": 141,
   "id": "b84436cf",
   "metadata": {},
   "outputs": [],
   "source": [
    "model = RandomForestRegressor()\n",
    "model.fit(X_train, y_train)\n",
    "preds = model.predict(X_valid)"
   ]
  },
  {
   "cell_type": "code",
   "execution_count": 148,
   "id": "e219c3f3",
   "metadata": {},
   "outputs": [
    {
     "name": "stdout",
     "output_type": "stream",
     "text": [
      "USING RANDOMFORESTREGRESSOR\n",
      "Mean error = 0.8444444409999976\n"
     ]
    }
   ],
   "source": [
    "mae = mean_absolute_error(y_valid, preds)\n",
    "print(\"USING RANDOMFORESTREGRESSOR\")\n",
    "print(\"Mean error =\", mae)"
   ]
  },
  {
   "cell_type": "markdown",
   "id": "7c7082b8",
   "metadata": {},
   "source": [
    "Now making a model using DecisionTreeRegressor"
   ]
  },
  {
   "cell_type": "code",
   "execution_count": 149,
   "id": "fda38d4b",
   "metadata": {},
   "outputs": [],
   "source": [
    "model_2 = DecisionTreeRegressor()\n",
    "model_2.fit(X_train, y_train)\n",
    "preds_2 = model_2.predict(X_valid)"
   ]
  },
  {
   "cell_type": "code",
   "execution_count": 150,
   "id": "d1c3514f",
   "metadata": {},
   "outputs": [
    {
     "name": "stdout",
     "output_type": "stream",
     "text": [
      "USING DECISIONTREEREGRESSOR\n",
      "Mean error = 2.6111111230000015\n"
     ]
    }
   ],
   "source": [
    "mae = mean_absolute_error(y_valid, preds_2)\n",
    "print(\"USING DECISIONTREEREGRESSOR\")\n",
    "print(\"Mean error =\", mae)"
   ]
  },
  {
   "cell_type": "markdown",
   "id": "840ded18",
   "metadata": {},
   "source": [
    "### If we compare the mean errors we can figure out that RandomForestRegressor performs well here!"
   ]
  }
 ],
 "metadata": {
  "kernelspec": {
   "display_name": "Python 3 (ipykernel)",
   "language": "python",
   "name": "python3"
  },
  "language_info": {
   "codemirror_mode": {
    "name": "ipython",
    "version": 3
   },
   "file_extension": ".py",
   "mimetype": "text/x-python",
   "name": "python",
   "nbconvert_exporter": "python",
   "pygments_lexer": "ipython3",
   "version": "3.7.3"
  }
 },
 "nbformat": 4,
 "nbformat_minor": 5
}
